{
 "cells": [
  {
   "cell_type": "code",
   "execution_count": 22,
   "metadata": {},
   "outputs": [],
   "source": [
    "import numpy as np \n",
    "import pandas as pd  \n",
    "import torch\n",
    "import matplotlib.pyplot as plt\n",
    "import os\n",
    "from tqdm.notebook import tqdm\n",
    "import matplotlib.pyplot as plt \n",
    "import torch.nn.functional as F \n",
    "\n",
    "data_dir = './data'"
   ]
  },
  {
   "cell_type": "code",
   "execution_count": 23,
   "metadata": {},
   "outputs": [],
   "source": [
    "from torchvision.datasets import ImageFolder\n",
    "from torch.utils.data import DataLoader \n",
    "from torchvision import transforms as T,datasets  \n",
    "from torchvision.models import resnet50"
   ]
  },
  {
   "cell_type": "code",
   "execution_count": 24,
   "metadata": {},
   "outputs": [
    {
     "name": "stdout",
     "output_type": "stream",
     "text": [
      "Device:cuda\n"
     ]
    }
   ],
   "source": [
    "class CNFG:\n",
    "    epochs =20                             \n",
    "    lr = 0.001                             \n",
    "    batch_size = 256              \n",
    "    img_size = 224\n",
    "    \n",
    "\n",
    "device = torch.device(\"cuda\" if torch.cuda.is_available() else \"cpu\")\n",
    "print(\"Device:{}\".format(device))"
   ]
  },
  {
   "cell_type": "code",
   "execution_count": 25,
   "metadata": {},
   "outputs": [],
   "source": [
    "data_transform = T.Compose([\n",
    "                             T.Resize(size=(CNFG.img_size,CNFG.img_size)), # Resizing the image to be 224 by 224\n",
    "                             T.RandomRotation(degrees=(-20,+20)), #Randomly Rotate Images by +/- 20 degrees, Image argumentation for each epoch\n",
    "                             T.ToTensor(), #converting the dimension from (height,weight,channel) to (channel,height,weight) convention of PyTorch\n",
    "                             T.Normalize([0.485,0.456,0.406],[0.229,0.224,0.225]) # Normalize by 3 means 3 StD's of the image net, 3 channels\n",
    "\n",
    "])"
   ]
  },
  {
   "cell_type": "code",
   "execution_count": 26,
   "metadata": {},
   "outputs": [
    {
     "data": {
      "text/plain": [
       "158"
      ]
     },
     "execution_count": 26,
     "metadata": {},
     "output_type": "execute_result"
    }
   ],
   "source": [
    "data = datasets.ImageFolder(data_dir,       \n",
    "                    transform=data_transform)\n",
    "total_count = len(data) \n",
    "total_count"
   ]
  },
  {
   "cell_type": "code",
   "execution_count": 27,
   "metadata": {},
   "outputs": [
    {
     "name": "stdout",
     "output_type": "stream",
     "text": [
      "Train data: 94 images\n",
      "Validation data: 47 images\n",
      "Test data: 17 images\n"
     ]
    }
   ],
   "source": [
    "train_count = int(0.6 * total_count) \n",
    "valid_count = int(0.3 * total_count)\n",
    "test_count = total_count - train_count - valid_count\n",
    "train_data, val_data, test_data = torch.utils.data.random_split(data, (train_count, valid_count, test_count))  \n",
    "print(\"Train data: {} images\".format(len(train_data))) \n",
    "print(\"Validation data: {} images\".format(len(val_data))) \n",
    "print(\"Test data: {} images\".format(len(test_data)))"
   ]
  },
  {
   "cell_type": "code",
   "execution_count": 28,
   "metadata": {},
   "outputs": [],
   "source": [
    "def accuracy(y_pred,y_true):\n",
    "    y_pred = F.softmax(y_pred,dim = 1)\n",
    "    top_p,top_class = y_pred.topk(1,dim = 1)\n",
    "    equals = top_class == y_true.view(*top_class.shape)\n",
    "    return torch.mean(equals.type(torch.FloatTensor))"
   ]
  },
  {
   "cell_type": "code",
   "execution_count": 29,
   "metadata": {},
   "outputs": [
    {
     "data": {
      "text/plain": [
       "['defect_cars', 'non-defect_cars']"
      ]
     },
     "execution_count": 29,
     "metadata": {},
     "output_type": "execute_result"
    }
   ],
   "source": [
    "train_data.dataset.classes"
   ]
  },
  {
   "cell_type": "code",
   "execution_count": 30,
   "metadata": {},
   "outputs": [
    {
     "data": {
      "text/plain": [
       "<torch.utils.data.dataset.Subset at 0x7f60b0bccd90>"
      ]
     },
     "execution_count": 30,
     "metadata": {},
     "output_type": "execute_result"
    }
   ],
   "source": [
    "train_data"
   ]
  },
  {
   "cell_type": "code",
   "execution_count": 31,
   "metadata": {},
   "outputs": [
    {
     "name": "stdout",
     "output_type": "stream",
     "text": [
      "No. of batches in trainloader:1\n",
      "No. of Total examples:94\n",
      "No. of batches in validationloader:1\n",
      "No. of Total examples:47\n",
      "No. of batches in testloader:1\n",
      "No. of Total examples:17\n"
     ]
    }
   ],
   "source": [
    "trainloader = DataLoader(train_data,batch_size=CNFG.batch_size,shuffle=True)\n",
    "print(\"No. of batches in trainloader:{}\".format(len(trainloader))) \n",
    "print(\"No. of Total examples:{}\".format(len(trainloader.dataset)))\n",
    "\n",
    "validationloader = DataLoader(val_data,batch_size=CNFG.batch_size,shuffle=True)\n",
    "print(\"No. of batches in validationloader:{}\".format(len(validationloader)))  \n",
    "print(\"No. of Total examples:{}\".format(len(validationloader.dataset)))\n",
    "\n",
    "testloader = DataLoader(test_data,batch_size=CNFG.batch_size,shuffle=True)\n",
    "print(\"No. of batches in testloader:{}\".format(len(testloader))) \n",
    "print(\"No. of Total examples:{}\".format(len(testloader.dataset)))"
   ]
  },
  {
   "cell_type": "code",
   "execution_count": 32,
   "metadata": {},
   "outputs": [
    {
     "data": {
      "text/plain": [
       "<torch.utils.data.dataloader.DataLoader at 0x7f60b20a3fd0>"
      ]
     },
     "execution_count": 32,
     "metadata": {},
     "output_type": "execute_result"
    }
   ],
   "source": [
    "trainloader"
   ]
  },
  {
   "cell_type": "code",
   "execution_count": 33,
   "metadata": {},
   "outputs": [],
   "source": [
    "from torch import nn\n",
    "import torch.nn.functional as F\n",
    "# import timm # PyTorch Image Models\n",
    "\n",
    "model = resnet50(pretrained=True) #load pretrained model"
   ]
  },
  {
   "cell_type": "code",
   "execution_count": 34,
   "metadata": {},
   "outputs": [
    {
     "data": {
      "text/plain": [
       "ResNet(\n",
       "  (conv1): Conv2d(3, 64, kernel_size=(7, 7), stride=(2, 2), padding=(3, 3), bias=False)\n",
       "  (bn1): BatchNorm2d(64, eps=1e-05, momentum=0.1, affine=True, track_running_stats=True)\n",
       "  (relu): ReLU(inplace=True)\n",
       "  (maxpool): MaxPool2d(kernel_size=3, stride=2, padding=1, dilation=1, ceil_mode=False)\n",
       "  (layer1): Sequential(\n",
       "    (0): Bottleneck(\n",
       "      (conv1): Conv2d(64, 64, kernel_size=(1, 1), stride=(1, 1), bias=False)\n",
       "      (bn1): BatchNorm2d(64, eps=1e-05, momentum=0.1, affine=True, track_running_stats=True)\n",
       "      (conv2): Conv2d(64, 64, kernel_size=(3, 3), stride=(1, 1), padding=(1, 1), bias=False)\n",
       "      (bn2): BatchNorm2d(64, eps=1e-05, momentum=0.1, affine=True, track_running_stats=True)\n",
       "      (conv3): Conv2d(64, 256, kernel_size=(1, 1), stride=(1, 1), bias=False)\n",
       "      (bn3): BatchNorm2d(256, eps=1e-05, momentum=0.1, affine=True, track_running_stats=True)\n",
       "      (relu): ReLU(inplace=True)\n",
       "      (downsample): Sequential(\n",
       "        (0): Conv2d(64, 256, kernel_size=(1, 1), stride=(1, 1), bias=False)\n",
       "        (1): BatchNorm2d(256, eps=1e-05, momentum=0.1, affine=True, track_running_stats=True)\n",
       "      )\n",
       "    )\n",
       "    (1): Bottleneck(\n",
       "      (conv1): Conv2d(256, 64, kernel_size=(1, 1), stride=(1, 1), bias=False)\n",
       "      (bn1): BatchNorm2d(64, eps=1e-05, momentum=0.1, affine=True, track_running_stats=True)\n",
       "      (conv2): Conv2d(64, 64, kernel_size=(3, 3), stride=(1, 1), padding=(1, 1), bias=False)\n",
       "      (bn2): BatchNorm2d(64, eps=1e-05, momentum=0.1, affine=True, track_running_stats=True)\n",
       "      (conv3): Conv2d(64, 256, kernel_size=(1, 1), stride=(1, 1), bias=False)\n",
       "      (bn3): BatchNorm2d(256, eps=1e-05, momentum=0.1, affine=True, track_running_stats=True)\n",
       "      (relu): ReLU(inplace=True)\n",
       "    )\n",
       "    (2): Bottleneck(\n",
       "      (conv1): Conv2d(256, 64, kernel_size=(1, 1), stride=(1, 1), bias=False)\n",
       "      (bn1): BatchNorm2d(64, eps=1e-05, momentum=0.1, affine=True, track_running_stats=True)\n",
       "      (conv2): Conv2d(64, 64, kernel_size=(3, 3), stride=(1, 1), padding=(1, 1), bias=False)\n",
       "      (bn2): BatchNorm2d(64, eps=1e-05, momentum=0.1, affine=True, track_running_stats=True)\n",
       "      (conv3): Conv2d(64, 256, kernel_size=(1, 1), stride=(1, 1), bias=False)\n",
       "      (bn3): BatchNorm2d(256, eps=1e-05, momentum=0.1, affine=True, track_running_stats=True)\n",
       "      (relu): ReLU(inplace=True)\n",
       "    )\n",
       "  )\n",
       "  (layer2): Sequential(\n",
       "    (0): Bottleneck(\n",
       "      (conv1): Conv2d(256, 128, kernel_size=(1, 1), stride=(1, 1), bias=False)\n",
       "      (bn1): BatchNorm2d(128, eps=1e-05, momentum=0.1, affine=True, track_running_stats=True)\n",
       "      (conv2): Conv2d(128, 128, kernel_size=(3, 3), stride=(2, 2), padding=(1, 1), bias=False)\n",
       "      (bn2): BatchNorm2d(128, eps=1e-05, momentum=0.1, affine=True, track_running_stats=True)\n",
       "      (conv3): Conv2d(128, 512, kernel_size=(1, 1), stride=(1, 1), bias=False)\n",
       "      (bn3): BatchNorm2d(512, eps=1e-05, momentum=0.1, affine=True, track_running_stats=True)\n",
       "      (relu): ReLU(inplace=True)\n",
       "      (downsample): Sequential(\n",
       "        (0): Conv2d(256, 512, kernel_size=(1, 1), stride=(2, 2), bias=False)\n",
       "        (1): BatchNorm2d(512, eps=1e-05, momentum=0.1, affine=True, track_running_stats=True)\n",
       "      )\n",
       "    )\n",
       "    (1): Bottleneck(\n",
       "      (conv1): Conv2d(512, 128, kernel_size=(1, 1), stride=(1, 1), bias=False)\n",
       "      (bn1): BatchNorm2d(128, eps=1e-05, momentum=0.1, affine=True, track_running_stats=True)\n",
       "      (conv2): Conv2d(128, 128, kernel_size=(3, 3), stride=(1, 1), padding=(1, 1), bias=False)\n",
       "      (bn2): BatchNorm2d(128, eps=1e-05, momentum=0.1, affine=True, track_running_stats=True)\n",
       "      (conv3): Conv2d(128, 512, kernel_size=(1, 1), stride=(1, 1), bias=False)\n",
       "      (bn3): BatchNorm2d(512, eps=1e-05, momentum=0.1, affine=True, track_running_stats=True)\n",
       "      (relu): ReLU(inplace=True)\n",
       "    )\n",
       "    (2): Bottleneck(\n",
       "      (conv1): Conv2d(512, 128, kernel_size=(1, 1), stride=(1, 1), bias=False)\n",
       "      (bn1): BatchNorm2d(128, eps=1e-05, momentum=0.1, affine=True, track_running_stats=True)\n",
       "      (conv2): Conv2d(128, 128, kernel_size=(3, 3), stride=(1, 1), padding=(1, 1), bias=False)\n",
       "      (bn2): BatchNorm2d(128, eps=1e-05, momentum=0.1, affine=True, track_running_stats=True)\n",
       "      (conv3): Conv2d(128, 512, kernel_size=(1, 1), stride=(1, 1), bias=False)\n",
       "      (bn3): BatchNorm2d(512, eps=1e-05, momentum=0.1, affine=True, track_running_stats=True)\n",
       "      (relu): ReLU(inplace=True)\n",
       "    )\n",
       "    (3): Bottleneck(\n",
       "      (conv1): Conv2d(512, 128, kernel_size=(1, 1), stride=(1, 1), bias=False)\n",
       "      (bn1): BatchNorm2d(128, eps=1e-05, momentum=0.1, affine=True, track_running_stats=True)\n",
       "      (conv2): Conv2d(128, 128, kernel_size=(3, 3), stride=(1, 1), padding=(1, 1), bias=False)\n",
       "      (bn2): BatchNorm2d(128, eps=1e-05, momentum=0.1, affine=True, track_running_stats=True)\n",
       "      (conv3): Conv2d(128, 512, kernel_size=(1, 1), stride=(1, 1), bias=False)\n",
       "      (bn3): BatchNorm2d(512, eps=1e-05, momentum=0.1, affine=True, track_running_stats=True)\n",
       "      (relu): ReLU(inplace=True)\n",
       "    )\n",
       "  )\n",
       "  (layer3): Sequential(\n",
       "    (0): Bottleneck(\n",
       "      (conv1): Conv2d(512, 256, kernel_size=(1, 1), stride=(1, 1), bias=False)\n",
       "      (bn1): BatchNorm2d(256, eps=1e-05, momentum=0.1, affine=True, track_running_stats=True)\n",
       "      (conv2): Conv2d(256, 256, kernel_size=(3, 3), stride=(2, 2), padding=(1, 1), bias=False)\n",
       "      (bn2): BatchNorm2d(256, eps=1e-05, momentum=0.1, affine=True, track_running_stats=True)\n",
       "      (conv3): Conv2d(256, 1024, kernel_size=(1, 1), stride=(1, 1), bias=False)\n",
       "      (bn3): BatchNorm2d(1024, eps=1e-05, momentum=0.1, affine=True, track_running_stats=True)\n",
       "      (relu): ReLU(inplace=True)\n",
       "      (downsample): Sequential(\n",
       "        (0): Conv2d(512, 1024, kernel_size=(1, 1), stride=(2, 2), bias=False)\n",
       "        (1): BatchNorm2d(1024, eps=1e-05, momentum=0.1, affine=True, track_running_stats=True)\n",
       "      )\n",
       "    )\n",
       "    (1): Bottleneck(\n",
       "      (conv1): Conv2d(1024, 256, kernel_size=(1, 1), stride=(1, 1), bias=False)\n",
       "      (bn1): BatchNorm2d(256, eps=1e-05, momentum=0.1, affine=True, track_running_stats=True)\n",
       "      (conv2): Conv2d(256, 256, kernel_size=(3, 3), stride=(1, 1), padding=(1, 1), bias=False)\n",
       "      (bn2): BatchNorm2d(256, eps=1e-05, momentum=0.1, affine=True, track_running_stats=True)\n",
       "      (conv3): Conv2d(256, 1024, kernel_size=(1, 1), stride=(1, 1), bias=False)\n",
       "      (bn3): BatchNorm2d(1024, eps=1e-05, momentum=0.1, affine=True, track_running_stats=True)\n",
       "      (relu): ReLU(inplace=True)\n",
       "    )\n",
       "    (2): Bottleneck(\n",
       "      (conv1): Conv2d(1024, 256, kernel_size=(1, 1), stride=(1, 1), bias=False)\n",
       "      (bn1): BatchNorm2d(256, eps=1e-05, momentum=0.1, affine=True, track_running_stats=True)\n",
       "      (conv2): Conv2d(256, 256, kernel_size=(3, 3), stride=(1, 1), padding=(1, 1), bias=False)\n",
       "      (bn2): BatchNorm2d(256, eps=1e-05, momentum=0.1, affine=True, track_running_stats=True)\n",
       "      (conv3): Conv2d(256, 1024, kernel_size=(1, 1), stride=(1, 1), bias=False)\n",
       "      (bn3): BatchNorm2d(1024, eps=1e-05, momentum=0.1, affine=True, track_running_stats=True)\n",
       "      (relu): ReLU(inplace=True)\n",
       "    )\n",
       "    (3): Bottleneck(\n",
       "      (conv1): Conv2d(1024, 256, kernel_size=(1, 1), stride=(1, 1), bias=False)\n",
       "      (bn1): BatchNorm2d(256, eps=1e-05, momentum=0.1, affine=True, track_running_stats=True)\n",
       "      (conv2): Conv2d(256, 256, kernel_size=(3, 3), stride=(1, 1), padding=(1, 1), bias=False)\n",
       "      (bn2): BatchNorm2d(256, eps=1e-05, momentum=0.1, affine=True, track_running_stats=True)\n",
       "      (conv3): Conv2d(256, 1024, kernel_size=(1, 1), stride=(1, 1), bias=False)\n",
       "      (bn3): BatchNorm2d(1024, eps=1e-05, momentum=0.1, affine=True, track_running_stats=True)\n",
       "      (relu): ReLU(inplace=True)\n",
       "    )\n",
       "    (4): Bottleneck(\n",
       "      (conv1): Conv2d(1024, 256, kernel_size=(1, 1), stride=(1, 1), bias=False)\n",
       "      (bn1): BatchNorm2d(256, eps=1e-05, momentum=0.1, affine=True, track_running_stats=True)\n",
       "      (conv2): Conv2d(256, 256, kernel_size=(3, 3), stride=(1, 1), padding=(1, 1), bias=False)\n",
       "      (bn2): BatchNorm2d(256, eps=1e-05, momentum=0.1, affine=True, track_running_stats=True)\n",
       "      (conv3): Conv2d(256, 1024, kernel_size=(1, 1), stride=(1, 1), bias=False)\n",
       "      (bn3): BatchNorm2d(1024, eps=1e-05, momentum=0.1, affine=True, track_running_stats=True)\n",
       "      (relu): ReLU(inplace=True)\n",
       "    )\n",
       "    (5): Bottleneck(\n",
       "      (conv1): Conv2d(1024, 256, kernel_size=(1, 1), stride=(1, 1), bias=False)\n",
       "      (bn1): BatchNorm2d(256, eps=1e-05, momentum=0.1, affine=True, track_running_stats=True)\n",
       "      (conv2): Conv2d(256, 256, kernel_size=(3, 3), stride=(1, 1), padding=(1, 1), bias=False)\n",
       "      (bn2): BatchNorm2d(256, eps=1e-05, momentum=0.1, affine=True, track_running_stats=True)\n",
       "      (conv3): Conv2d(256, 1024, kernel_size=(1, 1), stride=(1, 1), bias=False)\n",
       "      (bn3): BatchNorm2d(1024, eps=1e-05, momentum=0.1, affine=True, track_running_stats=True)\n",
       "      (relu): ReLU(inplace=True)\n",
       "    )\n",
       "  )\n",
       "  (layer4): Sequential(\n",
       "    (0): Bottleneck(\n",
       "      (conv1): Conv2d(1024, 512, kernel_size=(1, 1), stride=(1, 1), bias=False)\n",
       "      (bn1): BatchNorm2d(512, eps=1e-05, momentum=0.1, affine=True, track_running_stats=True)\n",
       "      (conv2): Conv2d(512, 512, kernel_size=(3, 3), stride=(2, 2), padding=(1, 1), bias=False)\n",
       "      (bn2): BatchNorm2d(512, eps=1e-05, momentum=0.1, affine=True, track_running_stats=True)\n",
       "      (conv3): Conv2d(512, 2048, kernel_size=(1, 1), stride=(1, 1), bias=False)\n",
       "      (bn3): BatchNorm2d(2048, eps=1e-05, momentum=0.1, affine=True, track_running_stats=True)\n",
       "      (relu): ReLU(inplace=True)\n",
       "      (downsample): Sequential(\n",
       "        (0): Conv2d(1024, 2048, kernel_size=(1, 1), stride=(2, 2), bias=False)\n",
       "        (1): BatchNorm2d(2048, eps=1e-05, momentum=0.1, affine=True, track_running_stats=True)\n",
       "      )\n",
       "    )\n",
       "    (1): Bottleneck(\n",
       "      (conv1): Conv2d(2048, 512, kernel_size=(1, 1), stride=(1, 1), bias=False)\n",
       "      (bn1): BatchNorm2d(512, eps=1e-05, momentum=0.1, affine=True, track_running_stats=True)\n",
       "      (conv2): Conv2d(512, 512, kernel_size=(3, 3), stride=(1, 1), padding=(1, 1), bias=False)\n",
       "      (bn2): BatchNorm2d(512, eps=1e-05, momentum=0.1, affine=True, track_running_stats=True)\n",
       "      (conv3): Conv2d(512, 2048, kernel_size=(1, 1), stride=(1, 1), bias=False)\n",
       "      (bn3): BatchNorm2d(2048, eps=1e-05, momentum=0.1, affine=True, track_running_stats=True)\n",
       "      (relu): ReLU(inplace=True)\n",
       "    )\n",
       "    (2): Bottleneck(\n",
       "      (conv1): Conv2d(2048, 512, kernel_size=(1, 1), stride=(1, 1), bias=False)\n",
       "      (bn1): BatchNorm2d(512, eps=1e-05, momentum=0.1, affine=True, track_running_stats=True)\n",
       "      (conv2): Conv2d(512, 512, kernel_size=(3, 3), stride=(1, 1), padding=(1, 1), bias=False)\n",
       "      (bn2): BatchNorm2d(512, eps=1e-05, momentum=0.1, affine=True, track_running_stats=True)\n",
       "      (conv3): Conv2d(512, 2048, kernel_size=(1, 1), stride=(1, 1), bias=False)\n",
       "      (bn3): BatchNorm2d(2048, eps=1e-05, momentum=0.1, affine=True, track_running_stats=True)\n",
       "      (relu): ReLU(inplace=True)\n",
       "    )\n",
       "  )\n",
       "  (avgpool): AdaptiveAvgPool2d(output_size=(1, 1))\n",
       "  (fc): Linear(in_features=2048, out_features=1000, bias=True)\n",
       ")"
      ]
     },
     "execution_count": 34,
     "metadata": {},
     "output_type": "execute_result"
    }
   ],
   "source": [
    "model.eval()"
   ]
  },
  {
   "cell_type": "code",
   "execution_count": 35,
   "metadata": {},
   "outputs": [],
   "source": [
    "#Updating the pretrained model:\n",
    "for param in model.parameters():\n",
    "    param.requires_grad=False "
   ]
  },
  {
   "cell_type": "code",
   "execution_count": 36,
   "metadata": {},
   "outputs": [],
   "source": [
    "model.fc = nn.Linear(in_features=2048,out_features = 2, bias=True)"
   ]
  },
  {
   "cell_type": "code",
   "execution_count": 37,
   "metadata": {},
   "outputs": [
    {
     "data": {
      "text/plain": [
       "ResNet(\n",
       "  (conv1): Conv2d(3, 64, kernel_size=(7, 7), stride=(2, 2), padding=(3, 3), bias=False)\n",
       "  (bn1): BatchNorm2d(64, eps=1e-05, momentum=0.1, affine=True, track_running_stats=True)\n",
       "  (relu): ReLU(inplace=True)\n",
       "  (maxpool): MaxPool2d(kernel_size=3, stride=2, padding=1, dilation=1, ceil_mode=False)\n",
       "  (layer1): Sequential(\n",
       "    (0): Bottleneck(\n",
       "      (conv1): Conv2d(64, 64, kernel_size=(1, 1), stride=(1, 1), bias=False)\n",
       "      (bn1): BatchNorm2d(64, eps=1e-05, momentum=0.1, affine=True, track_running_stats=True)\n",
       "      (conv2): Conv2d(64, 64, kernel_size=(3, 3), stride=(1, 1), padding=(1, 1), bias=False)\n",
       "      (bn2): BatchNorm2d(64, eps=1e-05, momentum=0.1, affine=True, track_running_stats=True)\n",
       "      (conv3): Conv2d(64, 256, kernel_size=(1, 1), stride=(1, 1), bias=False)\n",
       "      (bn3): BatchNorm2d(256, eps=1e-05, momentum=0.1, affine=True, track_running_stats=True)\n",
       "      (relu): ReLU(inplace=True)\n",
       "      (downsample): Sequential(\n",
       "        (0): Conv2d(64, 256, kernel_size=(1, 1), stride=(1, 1), bias=False)\n",
       "        (1): BatchNorm2d(256, eps=1e-05, momentum=0.1, affine=True, track_running_stats=True)\n",
       "      )\n",
       "    )\n",
       "    (1): Bottleneck(\n",
       "      (conv1): Conv2d(256, 64, kernel_size=(1, 1), stride=(1, 1), bias=False)\n",
       "      (bn1): BatchNorm2d(64, eps=1e-05, momentum=0.1, affine=True, track_running_stats=True)\n",
       "      (conv2): Conv2d(64, 64, kernel_size=(3, 3), stride=(1, 1), padding=(1, 1), bias=False)\n",
       "      (bn2): BatchNorm2d(64, eps=1e-05, momentum=0.1, affine=True, track_running_stats=True)\n",
       "      (conv3): Conv2d(64, 256, kernel_size=(1, 1), stride=(1, 1), bias=False)\n",
       "      (bn3): BatchNorm2d(256, eps=1e-05, momentum=0.1, affine=True, track_running_stats=True)\n",
       "      (relu): ReLU(inplace=True)\n",
       "    )\n",
       "    (2): Bottleneck(\n",
       "      (conv1): Conv2d(256, 64, kernel_size=(1, 1), stride=(1, 1), bias=False)\n",
       "      (bn1): BatchNorm2d(64, eps=1e-05, momentum=0.1, affine=True, track_running_stats=True)\n",
       "      (conv2): Conv2d(64, 64, kernel_size=(3, 3), stride=(1, 1), padding=(1, 1), bias=False)\n",
       "      (bn2): BatchNorm2d(64, eps=1e-05, momentum=0.1, affine=True, track_running_stats=True)\n",
       "      (conv3): Conv2d(64, 256, kernel_size=(1, 1), stride=(1, 1), bias=False)\n",
       "      (bn3): BatchNorm2d(256, eps=1e-05, momentum=0.1, affine=True, track_running_stats=True)\n",
       "      (relu): ReLU(inplace=True)\n",
       "    )\n",
       "  )\n",
       "  (layer2): Sequential(\n",
       "    (0): Bottleneck(\n",
       "      (conv1): Conv2d(256, 128, kernel_size=(1, 1), stride=(1, 1), bias=False)\n",
       "      (bn1): BatchNorm2d(128, eps=1e-05, momentum=0.1, affine=True, track_running_stats=True)\n",
       "      (conv2): Conv2d(128, 128, kernel_size=(3, 3), stride=(2, 2), padding=(1, 1), bias=False)\n",
       "      (bn2): BatchNorm2d(128, eps=1e-05, momentum=0.1, affine=True, track_running_stats=True)\n",
       "      (conv3): Conv2d(128, 512, kernel_size=(1, 1), stride=(1, 1), bias=False)\n",
       "      (bn3): BatchNorm2d(512, eps=1e-05, momentum=0.1, affine=True, track_running_stats=True)\n",
       "      (relu): ReLU(inplace=True)\n",
       "      (downsample): Sequential(\n",
       "        (0): Conv2d(256, 512, kernel_size=(1, 1), stride=(2, 2), bias=False)\n",
       "        (1): BatchNorm2d(512, eps=1e-05, momentum=0.1, affine=True, track_running_stats=True)\n",
       "      )\n",
       "    )\n",
       "    (1): Bottleneck(\n",
       "      (conv1): Conv2d(512, 128, kernel_size=(1, 1), stride=(1, 1), bias=False)\n",
       "      (bn1): BatchNorm2d(128, eps=1e-05, momentum=0.1, affine=True, track_running_stats=True)\n",
       "      (conv2): Conv2d(128, 128, kernel_size=(3, 3), stride=(1, 1), padding=(1, 1), bias=False)\n",
       "      (bn2): BatchNorm2d(128, eps=1e-05, momentum=0.1, affine=True, track_running_stats=True)\n",
       "      (conv3): Conv2d(128, 512, kernel_size=(1, 1), stride=(1, 1), bias=False)\n",
       "      (bn3): BatchNorm2d(512, eps=1e-05, momentum=0.1, affine=True, track_running_stats=True)\n",
       "      (relu): ReLU(inplace=True)\n",
       "    )\n",
       "    (2): Bottleneck(\n",
       "      (conv1): Conv2d(512, 128, kernel_size=(1, 1), stride=(1, 1), bias=False)\n",
       "      (bn1): BatchNorm2d(128, eps=1e-05, momentum=0.1, affine=True, track_running_stats=True)\n",
       "      (conv2): Conv2d(128, 128, kernel_size=(3, 3), stride=(1, 1), padding=(1, 1), bias=False)\n",
       "      (bn2): BatchNorm2d(128, eps=1e-05, momentum=0.1, affine=True, track_running_stats=True)\n",
       "      (conv3): Conv2d(128, 512, kernel_size=(1, 1), stride=(1, 1), bias=False)\n",
       "      (bn3): BatchNorm2d(512, eps=1e-05, momentum=0.1, affine=True, track_running_stats=True)\n",
       "      (relu): ReLU(inplace=True)\n",
       "    )\n",
       "    (3): Bottleneck(\n",
       "      (conv1): Conv2d(512, 128, kernel_size=(1, 1), stride=(1, 1), bias=False)\n",
       "      (bn1): BatchNorm2d(128, eps=1e-05, momentum=0.1, affine=True, track_running_stats=True)\n",
       "      (conv2): Conv2d(128, 128, kernel_size=(3, 3), stride=(1, 1), padding=(1, 1), bias=False)\n",
       "      (bn2): BatchNorm2d(128, eps=1e-05, momentum=0.1, affine=True, track_running_stats=True)\n",
       "      (conv3): Conv2d(128, 512, kernel_size=(1, 1), stride=(1, 1), bias=False)\n",
       "      (bn3): BatchNorm2d(512, eps=1e-05, momentum=0.1, affine=True, track_running_stats=True)\n",
       "      (relu): ReLU(inplace=True)\n",
       "    )\n",
       "  )\n",
       "  (layer3): Sequential(\n",
       "    (0): Bottleneck(\n",
       "      (conv1): Conv2d(512, 256, kernel_size=(1, 1), stride=(1, 1), bias=False)\n",
       "      (bn1): BatchNorm2d(256, eps=1e-05, momentum=0.1, affine=True, track_running_stats=True)\n",
       "      (conv2): Conv2d(256, 256, kernel_size=(3, 3), stride=(2, 2), padding=(1, 1), bias=False)\n",
       "      (bn2): BatchNorm2d(256, eps=1e-05, momentum=0.1, affine=True, track_running_stats=True)\n",
       "      (conv3): Conv2d(256, 1024, kernel_size=(1, 1), stride=(1, 1), bias=False)\n",
       "      (bn3): BatchNorm2d(1024, eps=1e-05, momentum=0.1, affine=True, track_running_stats=True)\n",
       "      (relu): ReLU(inplace=True)\n",
       "      (downsample): Sequential(\n",
       "        (0): Conv2d(512, 1024, kernel_size=(1, 1), stride=(2, 2), bias=False)\n",
       "        (1): BatchNorm2d(1024, eps=1e-05, momentum=0.1, affine=True, track_running_stats=True)\n",
       "      )\n",
       "    )\n",
       "    (1): Bottleneck(\n",
       "      (conv1): Conv2d(1024, 256, kernel_size=(1, 1), stride=(1, 1), bias=False)\n",
       "      (bn1): BatchNorm2d(256, eps=1e-05, momentum=0.1, affine=True, track_running_stats=True)\n",
       "      (conv2): Conv2d(256, 256, kernel_size=(3, 3), stride=(1, 1), padding=(1, 1), bias=False)\n",
       "      (bn2): BatchNorm2d(256, eps=1e-05, momentum=0.1, affine=True, track_running_stats=True)\n",
       "      (conv3): Conv2d(256, 1024, kernel_size=(1, 1), stride=(1, 1), bias=False)\n",
       "      (bn3): BatchNorm2d(1024, eps=1e-05, momentum=0.1, affine=True, track_running_stats=True)\n",
       "      (relu): ReLU(inplace=True)\n",
       "    )\n",
       "    (2): Bottleneck(\n",
       "      (conv1): Conv2d(1024, 256, kernel_size=(1, 1), stride=(1, 1), bias=False)\n",
       "      (bn1): BatchNorm2d(256, eps=1e-05, momentum=0.1, affine=True, track_running_stats=True)\n",
       "      (conv2): Conv2d(256, 256, kernel_size=(3, 3), stride=(1, 1), padding=(1, 1), bias=False)\n",
       "      (bn2): BatchNorm2d(256, eps=1e-05, momentum=0.1, affine=True, track_running_stats=True)\n",
       "      (conv3): Conv2d(256, 1024, kernel_size=(1, 1), stride=(1, 1), bias=False)\n",
       "      (bn3): BatchNorm2d(1024, eps=1e-05, momentum=0.1, affine=True, track_running_stats=True)\n",
       "      (relu): ReLU(inplace=True)\n",
       "    )\n",
       "    (3): Bottleneck(\n",
       "      (conv1): Conv2d(1024, 256, kernel_size=(1, 1), stride=(1, 1), bias=False)\n",
       "      (bn1): BatchNorm2d(256, eps=1e-05, momentum=0.1, affine=True, track_running_stats=True)\n",
       "      (conv2): Conv2d(256, 256, kernel_size=(3, 3), stride=(1, 1), padding=(1, 1), bias=False)\n",
       "      (bn2): BatchNorm2d(256, eps=1e-05, momentum=0.1, affine=True, track_running_stats=True)\n",
       "      (conv3): Conv2d(256, 1024, kernel_size=(1, 1), stride=(1, 1), bias=False)\n",
       "      (bn3): BatchNorm2d(1024, eps=1e-05, momentum=0.1, affine=True, track_running_stats=True)\n",
       "      (relu): ReLU(inplace=True)\n",
       "    )\n",
       "    (4): Bottleneck(\n",
       "      (conv1): Conv2d(1024, 256, kernel_size=(1, 1), stride=(1, 1), bias=False)\n",
       "      (bn1): BatchNorm2d(256, eps=1e-05, momentum=0.1, affine=True, track_running_stats=True)\n",
       "      (conv2): Conv2d(256, 256, kernel_size=(3, 3), stride=(1, 1), padding=(1, 1), bias=False)\n",
       "      (bn2): BatchNorm2d(256, eps=1e-05, momentum=0.1, affine=True, track_running_stats=True)\n",
       "      (conv3): Conv2d(256, 1024, kernel_size=(1, 1), stride=(1, 1), bias=False)\n",
       "      (bn3): BatchNorm2d(1024, eps=1e-05, momentum=0.1, affine=True, track_running_stats=True)\n",
       "      (relu): ReLU(inplace=True)\n",
       "    )\n",
       "    (5): Bottleneck(\n",
       "      (conv1): Conv2d(1024, 256, kernel_size=(1, 1), stride=(1, 1), bias=False)\n",
       "      (bn1): BatchNorm2d(256, eps=1e-05, momentum=0.1, affine=True, track_running_stats=True)\n",
       "      (conv2): Conv2d(256, 256, kernel_size=(3, 3), stride=(1, 1), padding=(1, 1), bias=False)\n",
       "      (bn2): BatchNorm2d(256, eps=1e-05, momentum=0.1, affine=True, track_running_stats=True)\n",
       "      (conv3): Conv2d(256, 1024, kernel_size=(1, 1), stride=(1, 1), bias=False)\n",
       "      (bn3): BatchNorm2d(1024, eps=1e-05, momentum=0.1, affine=True, track_running_stats=True)\n",
       "      (relu): ReLU(inplace=True)\n",
       "    )\n",
       "  )\n",
       "  (layer4): Sequential(\n",
       "    (0): Bottleneck(\n",
       "      (conv1): Conv2d(1024, 512, kernel_size=(1, 1), stride=(1, 1), bias=False)\n",
       "      (bn1): BatchNorm2d(512, eps=1e-05, momentum=0.1, affine=True, track_running_stats=True)\n",
       "      (conv2): Conv2d(512, 512, kernel_size=(3, 3), stride=(2, 2), padding=(1, 1), bias=False)\n",
       "      (bn2): BatchNorm2d(512, eps=1e-05, momentum=0.1, affine=True, track_running_stats=True)\n",
       "      (conv3): Conv2d(512, 2048, kernel_size=(1, 1), stride=(1, 1), bias=False)\n",
       "      (bn3): BatchNorm2d(2048, eps=1e-05, momentum=0.1, affine=True, track_running_stats=True)\n",
       "      (relu): ReLU(inplace=True)\n",
       "      (downsample): Sequential(\n",
       "        (0): Conv2d(1024, 2048, kernel_size=(1, 1), stride=(2, 2), bias=False)\n",
       "        (1): BatchNorm2d(2048, eps=1e-05, momentum=0.1, affine=True, track_running_stats=True)\n",
       "      )\n",
       "    )\n",
       "    (1): Bottleneck(\n",
       "      (conv1): Conv2d(2048, 512, kernel_size=(1, 1), stride=(1, 1), bias=False)\n",
       "      (bn1): BatchNorm2d(512, eps=1e-05, momentum=0.1, affine=True, track_running_stats=True)\n",
       "      (conv2): Conv2d(512, 512, kernel_size=(3, 3), stride=(1, 1), padding=(1, 1), bias=False)\n",
       "      (bn2): BatchNorm2d(512, eps=1e-05, momentum=0.1, affine=True, track_running_stats=True)\n",
       "      (conv3): Conv2d(512, 2048, kernel_size=(1, 1), stride=(1, 1), bias=False)\n",
       "      (bn3): BatchNorm2d(2048, eps=1e-05, momentum=0.1, affine=True, track_running_stats=True)\n",
       "      (relu): ReLU(inplace=True)\n",
       "    )\n",
       "    (2): Bottleneck(\n",
       "      (conv1): Conv2d(2048, 512, kernel_size=(1, 1), stride=(1, 1), bias=False)\n",
       "      (bn1): BatchNorm2d(512, eps=1e-05, momentum=0.1, affine=True, track_running_stats=True)\n",
       "      (conv2): Conv2d(512, 512, kernel_size=(3, 3), stride=(1, 1), padding=(1, 1), bias=False)\n",
       "      (bn2): BatchNorm2d(512, eps=1e-05, momentum=0.1, affine=True, track_running_stats=True)\n",
       "      (conv3): Conv2d(512, 2048, kernel_size=(1, 1), stride=(1, 1), bias=False)\n",
       "      (bn3): BatchNorm2d(2048, eps=1e-05, momentum=0.1, affine=True, track_running_stats=True)\n",
       "      (relu): ReLU(inplace=True)\n",
       "    )\n",
       "  )\n",
       "  (avgpool): AdaptiveAvgPool2d(output_size=(1, 1))\n",
       "  (fc): Linear(in_features=2048, out_features=2, bias=True)\n",
       ")"
      ]
     },
     "execution_count": 37,
     "metadata": {},
     "output_type": "execute_result"
    }
   ],
   "source": [
    "model.eval()"
   ]
  },
  {
   "cell_type": "code",
   "execution_count": 38,
   "metadata": {},
   "outputs": [
    {
     "name": "stdout",
     "output_type": "stream",
     "text": [
      "=================================================================\n",
      "Layer (type:depth-idx)                   Param #\n",
      "=================================================================\n",
      "├─Conv2d: 1-1                            (9,408)\n",
      "├─BatchNorm2d: 1-2                       (128)\n",
      "├─ReLU: 1-3                              --\n",
      "├─MaxPool2d: 1-4                         --\n",
      "├─Sequential: 1-5                        --\n",
      "|    └─Bottleneck: 2-1                   --\n",
      "|    |    └─Conv2d: 3-1                  (4,096)\n",
      "|    |    └─BatchNorm2d: 3-2             (128)\n",
      "|    |    └─Conv2d: 3-3                  (36,864)\n",
      "|    |    └─BatchNorm2d: 3-4             (128)\n",
      "|    |    └─Conv2d: 3-5                  (16,384)\n",
      "|    |    └─BatchNorm2d: 3-6             (512)\n",
      "|    |    └─ReLU: 3-7                    --\n",
      "|    |    └─Sequential: 3-8              (16,896)\n",
      "|    └─Bottleneck: 2-2                   --\n",
      "|    |    └─Conv2d: 3-9                  (16,384)\n",
      "|    |    └─BatchNorm2d: 3-10            (128)\n",
      "|    |    └─Conv2d: 3-11                 (36,864)\n",
      "|    |    └─BatchNorm2d: 3-12            (128)\n",
      "|    |    └─Conv2d: 3-13                 (16,384)\n",
      "|    |    └─BatchNorm2d: 3-14            (512)\n",
      "|    |    └─ReLU: 3-15                   --\n",
      "|    └─Bottleneck: 2-3                   --\n",
      "|    |    └─Conv2d: 3-16                 (16,384)\n",
      "|    |    └─BatchNorm2d: 3-17            (128)\n",
      "|    |    └─Conv2d: 3-18                 (36,864)\n",
      "|    |    └─BatchNorm2d: 3-19            (128)\n",
      "|    |    └─Conv2d: 3-20                 (16,384)\n",
      "|    |    └─BatchNorm2d: 3-21            (512)\n",
      "|    |    └─ReLU: 3-22                   --\n",
      "├─Sequential: 1-6                        --\n",
      "|    └─Bottleneck: 2-4                   --\n",
      "|    |    └─Conv2d: 3-23                 (32,768)\n",
      "|    |    └─BatchNorm2d: 3-24            (256)\n",
      "|    |    └─Conv2d: 3-25                 (147,456)\n",
      "|    |    └─BatchNorm2d: 3-26            (256)\n",
      "|    |    └─Conv2d: 3-27                 (65,536)\n",
      "|    |    └─BatchNorm2d: 3-28            (1,024)\n",
      "|    |    └─ReLU: 3-29                   --\n",
      "|    |    └─Sequential: 3-30             (132,096)\n",
      "|    └─Bottleneck: 2-5                   --\n",
      "|    |    └─Conv2d: 3-31                 (65,536)\n",
      "|    |    └─BatchNorm2d: 3-32            (256)\n",
      "|    |    └─Conv2d: 3-33                 (147,456)\n",
      "|    |    └─BatchNorm2d: 3-34            (256)\n",
      "|    |    └─Conv2d: 3-35                 (65,536)\n",
      "|    |    └─BatchNorm2d: 3-36            (1,024)\n",
      "|    |    └─ReLU: 3-37                   --\n",
      "|    └─Bottleneck: 2-6                   --\n",
      "|    |    └─Conv2d: 3-38                 (65,536)\n",
      "|    |    └─BatchNorm2d: 3-39            (256)\n",
      "|    |    └─Conv2d: 3-40                 (147,456)\n",
      "|    |    └─BatchNorm2d: 3-41            (256)\n",
      "|    |    └─Conv2d: 3-42                 (65,536)\n",
      "|    |    └─BatchNorm2d: 3-43            (1,024)\n",
      "|    |    └─ReLU: 3-44                   --\n",
      "|    └─Bottleneck: 2-7                   --\n",
      "|    |    └─Conv2d: 3-45                 (65,536)\n",
      "|    |    └─BatchNorm2d: 3-46            (256)\n",
      "|    |    └─Conv2d: 3-47                 (147,456)\n",
      "|    |    └─BatchNorm2d: 3-48            (256)\n",
      "|    |    └─Conv2d: 3-49                 (65,536)\n",
      "|    |    └─BatchNorm2d: 3-50            (1,024)\n",
      "|    |    └─ReLU: 3-51                   --\n",
      "├─Sequential: 1-7                        --\n",
      "|    └─Bottleneck: 2-8                   --\n",
      "|    |    └─Conv2d: 3-52                 (131,072)\n",
      "|    |    └─BatchNorm2d: 3-53            (512)\n",
      "|    |    └─Conv2d: 3-54                 (589,824)\n",
      "|    |    └─BatchNorm2d: 3-55            (512)\n",
      "|    |    └─Conv2d: 3-56                 (262,144)\n",
      "|    |    └─BatchNorm2d: 3-57            (2,048)\n",
      "|    |    └─ReLU: 3-58                   --\n",
      "|    |    └─Sequential: 3-59             (526,336)\n",
      "|    └─Bottleneck: 2-9                   --\n",
      "|    |    └─Conv2d: 3-60                 (262,144)\n",
      "|    |    └─BatchNorm2d: 3-61            (512)\n",
      "|    |    └─Conv2d: 3-62                 (589,824)\n",
      "|    |    └─BatchNorm2d: 3-63            (512)\n",
      "|    |    └─Conv2d: 3-64                 (262,144)\n",
      "|    |    └─BatchNorm2d: 3-65            (2,048)\n",
      "|    |    └─ReLU: 3-66                   --\n",
      "|    └─Bottleneck: 2-10                  --\n",
      "|    |    └─Conv2d: 3-67                 (262,144)\n",
      "|    |    └─BatchNorm2d: 3-68            (512)\n",
      "|    |    └─Conv2d: 3-69                 (589,824)\n",
      "|    |    └─BatchNorm2d: 3-70            (512)\n",
      "|    |    └─Conv2d: 3-71                 (262,144)\n",
      "|    |    └─BatchNorm2d: 3-72            (2,048)\n",
      "|    |    └─ReLU: 3-73                   --\n",
      "|    └─Bottleneck: 2-11                  --\n",
      "|    |    └─Conv2d: 3-74                 (262,144)\n",
      "|    |    └─BatchNorm2d: 3-75            (512)\n",
      "|    |    └─Conv2d: 3-76                 (589,824)\n",
      "|    |    └─BatchNorm2d: 3-77            (512)\n",
      "|    |    └─Conv2d: 3-78                 (262,144)\n",
      "|    |    └─BatchNorm2d: 3-79            (2,048)\n",
      "|    |    └─ReLU: 3-80                   --\n",
      "|    └─Bottleneck: 2-12                  --\n",
      "|    |    └─Conv2d: 3-81                 (262,144)\n",
      "|    |    └─BatchNorm2d: 3-82            (512)\n",
      "|    |    └─Conv2d: 3-83                 (589,824)\n",
      "|    |    └─BatchNorm2d: 3-84            (512)\n",
      "|    |    └─Conv2d: 3-85                 (262,144)\n",
      "|    |    └─BatchNorm2d: 3-86            (2,048)\n",
      "|    |    └─ReLU: 3-87                   --\n",
      "|    └─Bottleneck: 2-13                  --\n",
      "|    |    └─Conv2d: 3-88                 (262,144)\n",
      "|    |    └─BatchNorm2d: 3-89            (512)\n",
      "|    |    └─Conv2d: 3-90                 (589,824)\n",
      "|    |    └─BatchNorm2d: 3-91            (512)\n",
      "|    |    └─Conv2d: 3-92                 (262,144)\n",
      "|    |    └─BatchNorm2d: 3-93            (2,048)\n",
      "|    |    └─ReLU: 3-94                   --\n",
      "├─Sequential: 1-8                        --\n",
      "|    └─Bottleneck: 2-14                  --\n",
      "|    |    └─Conv2d: 3-95                 (524,288)\n",
      "|    |    └─BatchNorm2d: 3-96            (1,024)\n",
      "|    |    └─Conv2d: 3-97                 (2,359,296)\n",
      "|    |    └─BatchNorm2d: 3-98            (1,024)\n",
      "|    |    └─Conv2d: 3-99                 (1,048,576)\n",
      "|    |    └─BatchNorm2d: 3-100           (4,096)\n",
      "|    |    └─ReLU: 3-101                  --\n",
      "|    |    └─Sequential: 3-102            (2,101,248)\n",
      "|    └─Bottleneck: 2-15                  --\n",
      "|    |    └─Conv2d: 3-103                (1,048,576)\n",
      "|    |    └─BatchNorm2d: 3-104           (1,024)\n",
      "|    |    └─Conv2d: 3-105                (2,359,296)\n",
      "|    |    └─BatchNorm2d: 3-106           (1,024)\n",
      "|    |    └─Conv2d: 3-107                (1,048,576)\n",
      "|    |    └─BatchNorm2d: 3-108           (4,096)\n",
      "|    |    └─ReLU: 3-109                  --\n",
      "|    └─Bottleneck: 2-16                  --\n",
      "|    |    └─Conv2d: 3-110                (1,048,576)\n",
      "|    |    └─BatchNorm2d: 3-111           (1,024)\n",
      "|    |    └─Conv2d: 3-112                (2,359,296)\n",
      "|    |    └─BatchNorm2d: 3-113           (1,024)\n",
      "|    |    └─Conv2d: 3-114                (1,048,576)\n",
      "|    |    └─BatchNorm2d: 3-115           (4,096)\n",
      "|    |    └─ReLU: 3-116                  --\n",
      "├─AdaptiveAvgPool2d: 1-9                 --\n",
      "├─Linear: 1-10                           4,098\n",
      "=================================================================\n",
      "Total params: 23,512,130\n",
      "Trainable params: 4,098\n",
      "Non-trainable params: 23,508,032\n",
      "=================================================================\n"
     ]
    },
    {
     "data": {
      "text/plain": [
       "=================================================================\n",
       "Layer (type:depth-idx)                   Param #\n",
       "=================================================================\n",
       "├─Conv2d: 1-1                            (9,408)\n",
       "├─BatchNorm2d: 1-2                       (128)\n",
       "├─ReLU: 1-3                              --\n",
       "├─MaxPool2d: 1-4                         --\n",
       "├─Sequential: 1-5                        --\n",
       "|    └─Bottleneck: 2-1                   --\n",
       "|    |    └─Conv2d: 3-1                  (4,096)\n",
       "|    |    └─BatchNorm2d: 3-2             (128)\n",
       "|    |    └─Conv2d: 3-3                  (36,864)\n",
       "|    |    └─BatchNorm2d: 3-4             (128)\n",
       "|    |    └─Conv2d: 3-5                  (16,384)\n",
       "|    |    └─BatchNorm2d: 3-6             (512)\n",
       "|    |    └─ReLU: 3-7                    --\n",
       "|    |    └─Sequential: 3-8              (16,896)\n",
       "|    └─Bottleneck: 2-2                   --\n",
       "|    |    └─Conv2d: 3-9                  (16,384)\n",
       "|    |    └─BatchNorm2d: 3-10            (128)\n",
       "|    |    └─Conv2d: 3-11                 (36,864)\n",
       "|    |    └─BatchNorm2d: 3-12            (128)\n",
       "|    |    └─Conv2d: 3-13                 (16,384)\n",
       "|    |    └─BatchNorm2d: 3-14            (512)\n",
       "|    |    └─ReLU: 3-15                   --\n",
       "|    └─Bottleneck: 2-3                   --\n",
       "|    |    └─Conv2d: 3-16                 (16,384)\n",
       "|    |    └─BatchNorm2d: 3-17            (128)\n",
       "|    |    └─Conv2d: 3-18                 (36,864)\n",
       "|    |    └─BatchNorm2d: 3-19            (128)\n",
       "|    |    └─Conv2d: 3-20                 (16,384)\n",
       "|    |    └─BatchNorm2d: 3-21            (512)\n",
       "|    |    └─ReLU: 3-22                   --\n",
       "├─Sequential: 1-6                        --\n",
       "|    └─Bottleneck: 2-4                   --\n",
       "|    |    └─Conv2d: 3-23                 (32,768)\n",
       "|    |    └─BatchNorm2d: 3-24            (256)\n",
       "|    |    └─Conv2d: 3-25                 (147,456)\n",
       "|    |    └─BatchNorm2d: 3-26            (256)\n",
       "|    |    └─Conv2d: 3-27                 (65,536)\n",
       "|    |    └─BatchNorm2d: 3-28            (1,024)\n",
       "|    |    └─ReLU: 3-29                   --\n",
       "|    |    └─Sequential: 3-30             (132,096)\n",
       "|    └─Bottleneck: 2-5                   --\n",
       "|    |    └─Conv2d: 3-31                 (65,536)\n",
       "|    |    └─BatchNorm2d: 3-32            (256)\n",
       "|    |    └─Conv2d: 3-33                 (147,456)\n",
       "|    |    └─BatchNorm2d: 3-34            (256)\n",
       "|    |    └─Conv2d: 3-35                 (65,536)\n",
       "|    |    └─BatchNorm2d: 3-36            (1,024)\n",
       "|    |    └─ReLU: 3-37                   --\n",
       "|    └─Bottleneck: 2-6                   --\n",
       "|    |    └─Conv2d: 3-38                 (65,536)\n",
       "|    |    └─BatchNorm2d: 3-39            (256)\n",
       "|    |    └─Conv2d: 3-40                 (147,456)\n",
       "|    |    └─BatchNorm2d: 3-41            (256)\n",
       "|    |    └─Conv2d: 3-42                 (65,536)\n",
       "|    |    └─BatchNorm2d: 3-43            (1,024)\n",
       "|    |    └─ReLU: 3-44                   --\n",
       "|    └─Bottleneck: 2-7                   --\n",
       "|    |    └─Conv2d: 3-45                 (65,536)\n",
       "|    |    └─BatchNorm2d: 3-46            (256)\n",
       "|    |    └─Conv2d: 3-47                 (147,456)\n",
       "|    |    └─BatchNorm2d: 3-48            (256)\n",
       "|    |    └─Conv2d: 3-49                 (65,536)\n",
       "|    |    └─BatchNorm2d: 3-50            (1,024)\n",
       "|    |    └─ReLU: 3-51                   --\n",
       "├─Sequential: 1-7                        --\n",
       "|    └─Bottleneck: 2-8                   --\n",
       "|    |    └─Conv2d: 3-52                 (131,072)\n",
       "|    |    └─BatchNorm2d: 3-53            (512)\n",
       "|    |    └─Conv2d: 3-54                 (589,824)\n",
       "|    |    └─BatchNorm2d: 3-55            (512)\n",
       "|    |    └─Conv2d: 3-56                 (262,144)\n",
       "|    |    └─BatchNorm2d: 3-57            (2,048)\n",
       "|    |    └─ReLU: 3-58                   --\n",
       "|    |    └─Sequential: 3-59             (526,336)\n",
       "|    └─Bottleneck: 2-9                   --\n",
       "|    |    └─Conv2d: 3-60                 (262,144)\n",
       "|    |    └─BatchNorm2d: 3-61            (512)\n",
       "|    |    └─Conv2d: 3-62                 (589,824)\n",
       "|    |    └─BatchNorm2d: 3-63            (512)\n",
       "|    |    └─Conv2d: 3-64                 (262,144)\n",
       "|    |    └─BatchNorm2d: 3-65            (2,048)\n",
       "|    |    └─ReLU: 3-66                   --\n",
       "|    └─Bottleneck: 2-10                  --\n",
       "|    |    └─Conv2d: 3-67                 (262,144)\n",
       "|    |    └─BatchNorm2d: 3-68            (512)\n",
       "|    |    └─Conv2d: 3-69                 (589,824)\n",
       "|    |    └─BatchNorm2d: 3-70            (512)\n",
       "|    |    └─Conv2d: 3-71                 (262,144)\n",
       "|    |    └─BatchNorm2d: 3-72            (2,048)\n",
       "|    |    └─ReLU: 3-73                   --\n",
       "|    └─Bottleneck: 2-11                  --\n",
       "|    |    └─Conv2d: 3-74                 (262,144)\n",
       "|    |    └─BatchNorm2d: 3-75            (512)\n",
       "|    |    └─Conv2d: 3-76                 (589,824)\n",
       "|    |    └─BatchNorm2d: 3-77            (512)\n",
       "|    |    └─Conv2d: 3-78                 (262,144)\n",
       "|    |    └─BatchNorm2d: 3-79            (2,048)\n",
       "|    |    └─ReLU: 3-80                   --\n",
       "|    └─Bottleneck: 2-12                  --\n",
       "|    |    └─Conv2d: 3-81                 (262,144)\n",
       "|    |    └─BatchNorm2d: 3-82            (512)\n",
       "|    |    └─Conv2d: 3-83                 (589,824)\n",
       "|    |    └─BatchNorm2d: 3-84            (512)\n",
       "|    |    └─Conv2d: 3-85                 (262,144)\n",
       "|    |    └─BatchNorm2d: 3-86            (2,048)\n",
       "|    |    └─ReLU: 3-87                   --\n",
       "|    └─Bottleneck: 2-13                  --\n",
       "|    |    └─Conv2d: 3-88                 (262,144)\n",
       "|    |    └─BatchNorm2d: 3-89            (512)\n",
       "|    |    └─Conv2d: 3-90                 (589,824)\n",
       "|    |    └─BatchNorm2d: 3-91            (512)\n",
       "|    |    └─Conv2d: 3-92                 (262,144)\n",
       "|    |    └─BatchNorm2d: 3-93            (2,048)\n",
       "|    |    └─ReLU: 3-94                   --\n",
       "├─Sequential: 1-8                        --\n",
       "|    └─Bottleneck: 2-14                  --\n",
       "|    |    └─Conv2d: 3-95                 (524,288)\n",
       "|    |    └─BatchNorm2d: 3-96            (1,024)\n",
       "|    |    └─Conv2d: 3-97                 (2,359,296)\n",
       "|    |    └─BatchNorm2d: 3-98            (1,024)\n",
       "|    |    └─Conv2d: 3-99                 (1,048,576)\n",
       "|    |    └─BatchNorm2d: 3-100           (4,096)\n",
       "|    |    └─ReLU: 3-101                  --\n",
       "|    |    └─Sequential: 3-102            (2,101,248)\n",
       "|    └─Bottleneck: 2-15                  --\n",
       "|    |    └─Conv2d: 3-103                (1,048,576)\n",
       "|    |    └─BatchNorm2d: 3-104           (1,024)\n",
       "|    |    └─Conv2d: 3-105                (2,359,296)\n",
       "|    |    └─BatchNorm2d: 3-106           (1,024)\n",
       "|    |    └─Conv2d: 3-107                (1,048,576)\n",
       "|    |    └─BatchNorm2d: 3-108           (4,096)\n",
       "|    |    └─ReLU: 3-109                  --\n",
       "|    └─Bottleneck: 2-16                  --\n",
       "|    |    └─Conv2d: 3-110                (1,048,576)\n",
       "|    |    └─BatchNorm2d: 3-111           (1,024)\n",
       "|    |    └─Conv2d: 3-112                (2,359,296)\n",
       "|    |    └─BatchNorm2d: 3-113           (1,024)\n",
       "|    |    └─Conv2d: 3-114                (1,048,576)\n",
       "|    |    └─BatchNorm2d: 3-115           (4,096)\n",
       "|    |    └─ReLU: 3-116                  --\n",
       "├─AdaptiveAvgPool2d: 1-9                 --\n",
       "├─Linear: 1-10                           4,098\n",
       "=================================================================\n",
       "Total params: 23,512,130\n",
       "Trainable params: 4,098\n",
       "Non-trainable params: 23,508,032\n",
       "================================================================="
      ]
     },
     "execution_count": 38,
     "metadata": {},
     "output_type": "execute_result"
    }
   ],
   "source": [
    "from torchsummary import  summary\n",
    "model.to(device)# move the model to GPU\n",
    "summary(model,input_size=(3,224,224))"
   ]
  },
  {
   "cell_type": "code",
   "execution_count": 39,
   "metadata": {},
   "outputs": [],
   "source": [
    "class ModelTrainer():\n",
    "    \n",
    "    def __init__(self,criterion = None,optimizer = None,schedular = None):\n",
    "        \n",
    "        self.criterion = criterion\n",
    "        self.optimizer = optimizer\n",
    "        self.schedular = schedular \n",
    "\n",
    "    \n",
    "    \n",
    "    def train_batch_loop(self,model,trainloader):\n",
    "        \n",
    "        train_loss = 0.0\n",
    "        train_acc = 0.0\n",
    "        \n",
    "        for images,labels in tqdm(trainloader): \n",
    "            \n",
    "            # move the data to CPU\n",
    "            images = images.to(device)\n",
    "            labels = labels.to(device)\n",
    "            \n",
    "            outputs = model(images)\n",
    "            loss = self.criterion(outputs,labels)\n",
    "            \n",
    "            self.optimizer.zero_grad()\n",
    "            loss.backward()\n",
    "            self.optimizer.step()\n",
    "            \n",
    "            train_loss += loss.item()\n",
    "            train_acc += accuracy(outputs,labels)\n",
    "            \n",
    "        return train_loss / len(trainloader), train_acc / len(trainloader) \n",
    "\n",
    "    \n",
    "    def valid_batch_loop(self,model,validloader):\n",
    "        \n",
    "        valid_loss = 0.0\n",
    "        valid_acc = 0.0\n",
    "        \n",
    "        for images,labels in tqdm(validloader):\n",
    "            \n",
    "            # move the data to CPU\n",
    "            images = images.to(device) \n",
    "            labels = labels.to(device)\n",
    "            \n",
    "            outputs = model(images)\n",
    "            loss = self.criterion(outputs,labels)\n",
    "            \n",
    "            valid_loss += loss.item()\n",
    "            valid_acc += accuracy(outputs,labels)\n",
    "            \n",
    "        return valid_loss / len(validloader), valid_acc / len(validloader)\n",
    "            \n",
    "        \n",
    "    def fit(self,model,trainloader,validloader,epochs):\n",
    "        \n",
    "        valid_min_loss = np.Inf \n",
    "        \n",
    "        for i in range(epochs):\n",
    "            \n",
    "            model.train() \n",
    "            avg_train_loss, avg_train_acc = self.train_batch_loop(model,trainloader) \n",
    "            \n",
    "            model.eval()  \n",
    "            avg_valid_loss, avg_valid_acc = self.valid_batch_loop(model,validloader) \n",
    "            \n",
    "            if avg_valid_loss <= valid_min_loss :\n",
    "                print(\"Valid_loss decreased {} --> {}\".format(valid_min_loss,avg_valid_loss))\n",
    "                torch.save(model.state_dict(),'fire_alex_25.pt')\n",
    "                valid_min_loss = avg_valid_loss\n",
    "\n",
    "                \n",
    "            print(\"Epoch : {} Train Loss : {:.6f} Train Acc : {:.6f}\".format(i+1, avg_train_loss, avg_train_acc))\n",
    "            print(\"Epoch : {} Valid Loss : {:.6f} Valid Acc : {:.6f}\".format(i+1, avg_valid_loss, avg_valid_acc))\n"
   ]
  },
  {
   "cell_type": "code",
   "execution_count": 40,
   "metadata": {},
   "outputs": [
    {
     "data": {
      "application/vnd.jupyter.widget-view+json": {
       "model_id": "98c5416595884c65b992eec541f14347",
       "version_major": 2,
       "version_minor": 0
      },
      "text/plain": [
       "  0%|          | 0/1 [00:00<?, ?it/s]"
      ]
     },
     "metadata": {},
     "output_type": "display_data"
    },
    {
     "data": {
      "application/vnd.jupyter.widget-view+json": {
       "model_id": "39b1245a68cd48f0ae3b06d5989cc6c5",
       "version_major": 2,
       "version_minor": 0
      },
      "text/plain": [
       "  0%|          | 0/1 [00:00<?, ?it/s]"
      ]
     },
     "metadata": {},
     "output_type": "display_data"
    },
    {
     "name": "stdout",
     "output_type": "stream",
     "text": [
      "Valid_loss decreased inf --> 0.8857390880584717\n",
      "Epoch : 1 Train Loss : 0.822377 Train Acc : 0.468085\n",
      "Epoch : 1 Valid Loss : 0.885739 Valid Acc : 0.468085\n"
     ]
    },
    {
     "data": {
      "application/vnd.jupyter.widget-view+json": {
       "model_id": "a89ef6eb278f4cc3adeb9e5570e80eaa",
       "version_major": 2,
       "version_minor": 0
      },
      "text/plain": [
       "  0%|          | 0/1 [00:00<?, ?it/s]"
      ]
     },
     "metadata": {},
     "output_type": "display_data"
    },
    {
     "data": {
      "application/vnd.jupyter.widget-view+json": {
       "model_id": "0c457b95c05840e7b7d1adc9d9590c87",
       "version_major": 2,
       "version_minor": 0
      },
      "text/plain": [
       "  0%|          | 0/1 [00:00<?, ?it/s]"
      ]
     },
     "metadata": {},
     "output_type": "display_data"
    },
    {
     "name": "stdout",
     "output_type": "stream",
     "text": [
      "Valid_loss decreased 0.8857390880584717 --> 0.7903537154197693\n",
      "Epoch : 2 Train Loss : 0.908385 Train Acc : 0.521277\n",
      "Epoch : 2 Valid Loss : 0.790354 Valid Acc : 0.489362\n"
     ]
    },
    {
     "data": {
      "application/vnd.jupyter.widget-view+json": {
       "model_id": "9499f08b854c4f09b96264ad5f264500",
       "version_major": 2,
       "version_minor": 0
      },
      "text/plain": [
       "  0%|          | 0/1 [00:00<?, ?it/s]"
      ]
     },
     "metadata": {},
     "output_type": "display_data"
    },
    {
     "data": {
      "application/vnd.jupyter.widget-view+json": {
       "model_id": "476cd006e6584ccda153070862b3a02f",
       "version_major": 2,
       "version_minor": 0
      },
      "text/plain": [
       "  0%|          | 0/1 [00:00<?, ?it/s]"
      ]
     },
     "metadata": {},
     "output_type": "display_data"
    },
    {
     "name": "stdout",
     "output_type": "stream",
     "text": [
      "Valid_loss decreased 0.7903537154197693 --> 0.6803649067878723\n",
      "Epoch : 3 Train Loss : 0.757822 Train Acc : 0.521277\n",
      "Epoch : 3 Valid Loss : 0.680365 Valid Acc : 0.553191\n"
     ]
    },
    {
     "data": {
      "application/vnd.jupyter.widget-view+json": {
       "model_id": "297eb254ded14aa2ba976cd8a0d3d4bb",
       "version_major": 2,
       "version_minor": 0
      },
      "text/plain": [
       "  0%|          | 0/1 [00:00<?, ?it/s]"
      ]
     },
     "metadata": {},
     "output_type": "display_data"
    },
    {
     "data": {
      "application/vnd.jupyter.widget-view+json": {
       "model_id": "a0f2fcebfda44260accb6a068e214e33",
       "version_major": 2,
       "version_minor": 0
      },
      "text/plain": [
       "  0%|          | 0/1 [00:00<?, ?it/s]"
      ]
     },
     "metadata": {},
     "output_type": "display_data"
    },
    {
     "name": "stdout",
     "output_type": "stream",
     "text": [
      "Epoch : 4 Train Loss : 0.675520 Train Acc : 0.585106\n",
      "Epoch : 4 Valid Loss : 0.721986 Valid Acc : 0.531915\n"
     ]
    },
    {
     "data": {
      "application/vnd.jupyter.widget-view+json": {
       "model_id": "9323435fe081416dbcbf84608ce57ae2",
       "version_major": 2,
       "version_minor": 0
      },
      "text/plain": [
       "  0%|          | 0/1 [00:00<?, ?it/s]"
      ]
     },
     "metadata": {},
     "output_type": "display_data"
    },
    {
     "data": {
      "application/vnd.jupyter.widget-view+json": {
       "model_id": "ff453de3bca54050bb598ae223f88b4d",
       "version_major": 2,
       "version_minor": 0
      },
      "text/plain": [
       "  0%|          | 0/1 [00:00<?, ?it/s]"
      ]
     },
     "metadata": {},
     "output_type": "display_data"
    },
    {
     "name": "stdout",
     "output_type": "stream",
     "text": [
      "Valid_loss decreased 0.6803649067878723 --> 0.6672715544700623\n",
      "Epoch : 5 Train Loss : 0.682676 Train Acc : 0.489362\n",
      "Epoch : 5 Valid Loss : 0.667272 Valid Acc : 0.553191\n"
     ]
    },
    {
     "data": {
      "application/vnd.jupyter.widget-view+json": {
       "model_id": "28bc37f67c2e46f8b5a4fea0a4f178e0",
       "version_major": 2,
       "version_minor": 0
      },
      "text/plain": [
       "  0%|          | 0/1 [00:00<?, ?it/s]"
      ]
     },
     "metadata": {},
     "output_type": "display_data"
    },
    {
     "data": {
      "application/vnd.jupyter.widget-view+json": {
       "model_id": "a89b6b1f8449410e97d8e19c49d07974",
       "version_major": 2,
       "version_minor": 0
      },
      "text/plain": [
       "  0%|          | 0/1 [00:00<?, ?it/s]"
      ]
     },
     "metadata": {},
     "output_type": "display_data"
    },
    {
     "name": "stdout",
     "output_type": "stream",
     "text": [
      "Valid_loss decreased 0.6672715544700623 --> 0.5828185677528381\n",
      "Epoch : 6 Train Loss : 0.644925 Train Acc : 0.500000\n",
      "Epoch : 6 Valid Loss : 0.582819 Valid Acc : 0.765957\n"
     ]
    },
    {
     "data": {
      "application/vnd.jupyter.widget-view+json": {
       "model_id": "deb39f2d13b14a34afb80d333315c2b7",
       "version_major": 2,
       "version_minor": 0
      },
      "text/plain": [
       "  0%|          | 0/1 [00:00<?, ?it/s]"
      ]
     },
     "metadata": {},
     "output_type": "display_data"
    },
    {
     "data": {
      "application/vnd.jupyter.widget-view+json": {
       "model_id": "89900732180f4cd19bc3a86100dca530",
       "version_major": 2,
       "version_minor": 0
      },
      "text/plain": [
       "  0%|          | 0/1 [00:00<?, ?it/s]"
      ]
     },
     "metadata": {},
     "output_type": "display_data"
    },
    {
     "name": "stdout",
     "output_type": "stream",
     "text": [
      "Valid_loss decreased 0.5828185677528381 --> 0.5823696851730347\n",
      "Epoch : 7 Train Loss : 0.573409 Train Acc : 0.744681\n",
      "Epoch : 7 Valid Loss : 0.582370 Valid Acc : 0.702128\n"
     ]
    },
    {
     "data": {
      "application/vnd.jupyter.widget-view+json": {
       "model_id": "b6d3d655176644b58d253b4a56cb857a",
       "version_major": 2,
       "version_minor": 0
      },
      "text/plain": [
       "  0%|          | 0/1 [00:00<?, ?it/s]"
      ]
     },
     "metadata": {},
     "output_type": "display_data"
    },
    {
     "data": {
      "application/vnd.jupyter.widget-view+json": {
       "model_id": "b7774c6e4fce446ea47e744ad6d6109c",
       "version_major": 2,
       "version_minor": 0
      },
      "text/plain": [
       "  0%|          | 0/1 [00:00<?, ?it/s]"
      ]
     },
     "metadata": {},
     "output_type": "display_data"
    },
    {
     "name": "stdout",
     "output_type": "stream",
     "text": [
      "Epoch : 8 Train Loss : 0.507074 Train Acc : 0.851064\n",
      "Epoch : 8 Valid Loss : 0.609516 Valid Acc : 0.659574\n"
     ]
    },
    {
     "data": {
      "application/vnd.jupyter.widget-view+json": {
       "model_id": "6799bffb22b2423e9db3cf406bb734d8",
       "version_major": 2,
       "version_minor": 0
      },
      "text/plain": [
       "  0%|          | 0/1 [00:00<?, ?it/s]"
      ]
     },
     "metadata": {},
     "output_type": "display_data"
    },
    {
     "data": {
      "application/vnd.jupyter.widget-view+json": {
       "model_id": "6f2241f7c695459dade5ff3bdd08a3fe",
       "version_major": 2,
       "version_minor": 0
      },
      "text/plain": [
       "  0%|          | 0/1 [00:00<?, ?it/s]"
      ]
     },
     "metadata": {},
     "output_type": "display_data"
    },
    {
     "name": "stdout",
     "output_type": "stream",
     "text": [
      "Epoch : 9 Train Loss : 0.526777 Train Acc : 0.765957\n",
      "Epoch : 9 Valid Loss : 0.598517 Valid Acc : 0.595745\n"
     ]
    },
    {
     "data": {
      "application/vnd.jupyter.widget-view+json": {
       "model_id": "fcdfbeb94d204a3ea35bd114c4a630d6",
       "version_major": 2,
       "version_minor": 0
      },
      "text/plain": [
       "  0%|          | 0/1 [00:00<?, ?it/s]"
      ]
     },
     "metadata": {},
     "output_type": "display_data"
    },
    {
     "data": {
      "application/vnd.jupyter.widget-view+json": {
       "model_id": "8fbc9acbab0f4103b15760d71b4f64d6",
       "version_major": 2,
       "version_minor": 0
      },
      "text/plain": [
       "  0%|          | 0/1 [00:00<?, ?it/s]"
      ]
     },
     "metadata": {},
     "output_type": "display_data"
    },
    {
     "name": "stdout",
     "output_type": "stream",
     "text": [
      "Valid_loss decreased 0.5823696851730347 --> 0.5647876262664795\n",
      "Epoch : 10 Train Loss : 0.463602 Train Acc : 0.819149\n",
      "Epoch : 10 Valid Loss : 0.564788 Valid Acc : 0.765957\n"
     ]
    },
    {
     "data": {
      "application/vnd.jupyter.widget-view+json": {
       "model_id": "71ba59b169664df991d8f0de01e1dc0c",
       "version_major": 2,
       "version_minor": 0
      },
      "text/plain": [
       "  0%|          | 0/1 [00:00<?, ?it/s]"
      ]
     },
     "metadata": {},
     "output_type": "display_data"
    },
    {
     "data": {
      "application/vnd.jupyter.widget-view+json": {
       "model_id": "353087692205421eb8fc577c8b5fe17a",
       "version_major": 2,
       "version_minor": 0
      },
      "text/plain": [
       "  0%|          | 0/1 [00:00<?, ?it/s]"
      ]
     },
     "metadata": {},
     "output_type": "display_data"
    },
    {
     "name": "stdout",
     "output_type": "stream",
     "text": [
      "Valid_loss decreased 0.5647876262664795 --> 0.4781014025211334\n",
      "Epoch : 11 Train Loss : 0.451673 Train Acc : 0.872340\n",
      "Epoch : 11 Valid Loss : 0.478101 Valid Acc : 0.872340\n"
     ]
    },
    {
     "data": {
      "application/vnd.jupyter.widget-view+json": {
       "model_id": "eac431d3044f4814b0057bfa6542478d",
       "version_major": 2,
       "version_minor": 0
      },
      "text/plain": [
       "  0%|          | 0/1 [00:00<?, ?it/s]"
      ]
     },
     "metadata": {},
     "output_type": "display_data"
    },
    {
     "data": {
      "application/vnd.jupyter.widget-view+json": {
       "model_id": "949e0c77531640d4a5607bc4191d6533",
       "version_major": 2,
       "version_minor": 0
      },
      "text/plain": [
       "  0%|          | 0/1 [00:00<?, ?it/s]"
      ]
     },
     "metadata": {},
     "output_type": "display_data"
    },
    {
     "name": "stdout",
     "output_type": "stream",
     "text": [
      "Valid_loss decreased 0.4781014025211334 --> 0.47121044993400574\n",
      "Epoch : 12 Train Loss : 0.402783 Train Acc : 0.882979\n",
      "Epoch : 12 Valid Loss : 0.471210 Valid Acc : 0.851064\n"
     ]
    },
    {
     "data": {
      "application/vnd.jupyter.widget-view+json": {
       "model_id": "e000fe7fb2274101baa355f6656ef3a4",
       "version_major": 2,
       "version_minor": 0
      },
      "text/plain": [
       "  0%|          | 0/1 [00:00<?, ?it/s]"
      ]
     },
     "metadata": {},
     "output_type": "display_data"
    },
    {
     "data": {
      "application/vnd.jupyter.widget-view+json": {
       "model_id": "f663b577a23a4d4cb475ed5e02f00759",
       "version_major": 2,
       "version_minor": 0
      },
      "text/plain": [
       "  0%|          | 0/1 [00:00<?, ?it/s]"
      ]
     },
     "metadata": {},
     "output_type": "display_data"
    },
    {
     "name": "stdout",
     "output_type": "stream",
     "text": [
      "Valid_loss decreased 0.47121044993400574 --> 0.425143837928772\n",
      "Epoch : 13 Train Loss : 0.398300 Train Acc : 0.893617\n",
      "Epoch : 13 Valid Loss : 0.425144 Valid Acc : 0.914894\n"
     ]
    },
    {
     "data": {
      "application/vnd.jupyter.widget-view+json": {
       "model_id": "799bd7384dac4a95b384ab51a9251f13",
       "version_major": 2,
       "version_minor": 0
      },
      "text/plain": [
       "  0%|          | 0/1 [00:00<?, ?it/s]"
      ]
     },
     "metadata": {},
     "output_type": "display_data"
    },
    {
     "data": {
      "application/vnd.jupyter.widget-view+json": {
       "model_id": "d025cda160614542a32b65dbe2f74487",
       "version_major": 2,
       "version_minor": 0
      },
      "text/plain": [
       "  0%|          | 0/1 [00:00<?, ?it/s]"
      ]
     },
     "metadata": {},
     "output_type": "display_data"
    },
    {
     "name": "stdout",
     "output_type": "stream",
     "text": [
      "Epoch : 14 Train Loss : 0.385948 Train Acc : 0.861702\n",
      "Epoch : 14 Valid Loss : 0.457978 Valid Acc : 0.765957\n"
     ]
    },
    {
     "data": {
      "application/vnd.jupyter.widget-view+json": {
       "model_id": "7087a1a0921947ce85ef5763f9960cf9",
       "version_major": 2,
       "version_minor": 0
      },
      "text/plain": [
       "  0%|          | 0/1 [00:00<?, ?it/s]"
      ]
     },
     "metadata": {},
     "output_type": "display_data"
    },
    {
     "data": {
      "application/vnd.jupyter.widget-view+json": {
       "model_id": "2aa7c56f5d8c4a2b91e2ea29e2b8bd38",
       "version_major": 2,
       "version_minor": 0
      },
      "text/plain": [
       "  0%|          | 0/1 [00:00<?, ?it/s]"
      ]
     },
     "metadata": {},
     "output_type": "display_data"
    },
    {
     "name": "stdout",
     "output_type": "stream",
     "text": [
      "Valid_loss decreased 0.425143837928772 --> 0.4044182598590851\n",
      "Epoch : 15 Train Loss : 0.382766 Train Acc : 0.904255\n",
      "Epoch : 15 Valid Loss : 0.404418 Valid Acc : 0.829787\n"
     ]
    },
    {
     "data": {
      "application/vnd.jupyter.widget-view+json": {
       "model_id": "e77bd53988374d22864321448de51794",
       "version_major": 2,
       "version_minor": 0
      },
      "text/plain": [
       "  0%|          | 0/1 [00:00<?, ?it/s]"
      ]
     },
     "metadata": {},
     "output_type": "display_data"
    },
    {
     "data": {
      "application/vnd.jupyter.widget-view+json": {
       "model_id": "87de1f5e594f498191880b98fafbe330",
       "version_major": 2,
       "version_minor": 0
      },
      "text/plain": [
       "  0%|          | 0/1 [00:00<?, ?it/s]"
      ]
     },
     "metadata": {},
     "output_type": "display_data"
    },
    {
     "name": "stdout",
     "output_type": "stream",
     "text": [
      "Valid_loss decreased 0.4044182598590851 --> 0.3799848258495331\n",
      "Epoch : 16 Train Loss : 0.346594 Train Acc : 0.882979\n",
      "Epoch : 16 Valid Loss : 0.379985 Valid Acc : 0.872340\n"
     ]
    },
    {
     "data": {
      "application/vnd.jupyter.widget-view+json": {
       "model_id": "5d405a51000b492c8ad1aebe84c0f32c",
       "version_major": 2,
       "version_minor": 0
      },
      "text/plain": [
       "  0%|          | 0/1 [00:00<?, ?it/s]"
      ]
     },
     "metadata": {},
     "output_type": "display_data"
    },
    {
     "data": {
      "application/vnd.jupyter.widget-view+json": {
       "model_id": "ff04be5ec414462496e3266e03dccdf3",
       "version_major": 2,
       "version_minor": 0
      },
      "text/plain": [
       "  0%|          | 0/1 [00:00<?, ?it/s]"
      ]
     },
     "metadata": {},
     "output_type": "display_data"
    },
    {
     "name": "stdout",
     "output_type": "stream",
     "text": [
      "Epoch : 17 Train Loss : 0.306204 Train Acc : 0.936170\n",
      "Epoch : 17 Valid Loss : 0.390604 Valid Acc : 0.851064\n"
     ]
    },
    {
     "data": {
      "application/vnd.jupyter.widget-view+json": {
       "model_id": "4caaf7d3f8d64ac7a15827b239d99204",
       "version_major": 2,
       "version_minor": 0
      },
      "text/plain": [
       "  0%|          | 0/1 [00:00<?, ?it/s]"
      ]
     },
     "metadata": {},
     "output_type": "display_data"
    },
    {
     "data": {
      "application/vnd.jupyter.widget-view+json": {
       "model_id": "1e3c8ff8d7fa4c09b2c9eb2720865682",
       "version_major": 2,
       "version_minor": 0
      },
      "text/plain": [
       "  0%|          | 0/1 [00:00<?, ?it/s]"
      ]
     },
     "metadata": {},
     "output_type": "display_data"
    },
    {
     "name": "stdout",
     "output_type": "stream",
     "text": [
      "Epoch : 18 Train Loss : 0.283654 Train Acc : 0.904255\n",
      "Epoch : 18 Valid Loss : 0.414030 Valid Acc : 0.872340\n"
     ]
    },
    {
     "data": {
      "application/vnd.jupyter.widget-view+json": {
       "model_id": "cb9fd72c8a3642f4bcc8adf7d53e7134",
       "version_major": 2,
       "version_minor": 0
      },
      "text/plain": [
       "  0%|          | 0/1 [00:00<?, ?it/s]"
      ]
     },
     "metadata": {},
     "output_type": "display_data"
    },
    {
     "data": {
      "application/vnd.jupyter.widget-view+json": {
       "model_id": "ef1d222036444f9bb60a7e375842cdd1",
       "version_major": 2,
       "version_minor": 0
      },
      "text/plain": [
       "  0%|          | 0/1 [00:00<?, ?it/s]"
      ]
     },
     "metadata": {},
     "output_type": "display_data"
    },
    {
     "name": "stdout",
     "output_type": "stream",
     "text": [
      "Epoch : 19 Train Loss : 0.284238 Train Acc : 0.904255\n",
      "Epoch : 19 Valid Loss : 0.417975 Valid Acc : 0.808511\n"
     ]
    },
    {
     "data": {
      "application/vnd.jupyter.widget-view+json": {
       "model_id": "28fc535e403648dc94d0617d3dae6ac9",
       "version_major": 2,
       "version_minor": 0
      },
      "text/plain": [
       "  0%|          | 0/1 [00:00<?, ?it/s]"
      ]
     },
     "metadata": {},
     "output_type": "display_data"
    },
    {
     "data": {
      "application/vnd.jupyter.widget-view+json": {
       "model_id": "5053a9e9d43842a1bf3dcb0779d142cd",
       "version_major": 2,
       "version_minor": 0
      },
      "text/plain": [
       "  0%|          | 0/1 [00:00<?, ?it/s]"
      ]
     },
     "metadata": {},
     "output_type": "display_data"
    },
    {
     "name": "stdout",
     "output_type": "stream",
     "text": [
      "Epoch : 20 Train Loss : 0.266472 Train Acc : 0.904255\n",
      "Epoch : 20 Valid Loss : 0.396630 Valid Acc : 0.872340\n"
     ]
    },
    {
     "data": {
      "application/vnd.jupyter.widget-view+json": {
       "model_id": "09636b1cacea470d94cbfe64f42d88cc",
       "version_major": 2,
       "version_minor": 0
      },
      "text/plain": [
       "  0%|          | 0/1 [00:00<?, ?it/s]"
      ]
     },
     "metadata": {},
     "output_type": "display_data"
    },
    {
     "data": {
      "application/vnd.jupyter.widget-view+json": {
       "model_id": "0b00690034b94686897874070e6ea012",
       "version_major": 2,
       "version_minor": 0
      },
      "text/plain": [
       "  0%|          | 0/1 [00:00<?, ?it/s]"
      ]
     },
     "metadata": {},
     "output_type": "display_data"
    },
    {
     "name": "stdout",
     "output_type": "stream",
     "text": [
      "Valid_loss decreased 0.3799848258495331 --> 0.3557128608226776\n",
      "Epoch : 21 Train Loss : 0.283265 Train Acc : 0.914894\n",
      "Epoch : 21 Valid Loss : 0.355713 Valid Acc : 0.914894\n"
     ]
    },
    {
     "data": {
      "application/vnd.jupyter.widget-view+json": {
       "model_id": "1a0072b20965443b90d0c52ce49483d9",
       "version_major": 2,
       "version_minor": 0
      },
      "text/plain": [
       "  0%|          | 0/1 [00:00<?, ?it/s]"
      ]
     },
     "metadata": {},
     "output_type": "display_data"
    },
    {
     "data": {
      "application/vnd.jupyter.widget-view+json": {
       "model_id": "465681a7bf40422cb3ca8b1ff2a4703a",
       "version_major": 2,
       "version_minor": 0
      },
      "text/plain": [
       "  0%|          | 0/1 [00:00<?, ?it/s]"
      ]
     },
     "metadata": {},
     "output_type": "display_data"
    },
    {
     "name": "stdout",
     "output_type": "stream",
     "text": [
      "Epoch : 22 Train Loss : 0.265410 Train Acc : 0.904255\n",
      "Epoch : 22 Valid Loss : 0.362371 Valid Acc : 0.893617\n"
     ]
    },
    {
     "data": {
      "application/vnd.jupyter.widget-view+json": {
       "model_id": "2518b83204914bbf9f90021354326574",
       "version_major": 2,
       "version_minor": 0
      },
      "text/plain": [
       "  0%|          | 0/1 [00:00<?, ?it/s]"
      ]
     },
     "metadata": {},
     "output_type": "display_data"
    },
    {
     "data": {
      "application/vnd.jupyter.widget-view+json": {
       "model_id": "b20bfb679cc84af6b860e71f3ed14276",
       "version_major": 2,
       "version_minor": 0
      },
      "text/plain": [
       "  0%|          | 0/1 [00:00<?, ?it/s]"
      ]
     },
     "metadata": {},
     "output_type": "display_data"
    },
    {
     "name": "stdout",
     "output_type": "stream",
     "text": [
      "Valid_loss decreased 0.3557128608226776 --> 0.3486541211605072\n",
      "Epoch : 23 Train Loss : 0.236456 Train Acc : 0.914894\n",
      "Epoch : 23 Valid Loss : 0.348654 Valid Acc : 0.851064\n"
     ]
    },
    {
     "data": {
      "application/vnd.jupyter.widget-view+json": {
       "model_id": "733463c7489d41c6a80790986c59a3c1",
       "version_major": 2,
       "version_minor": 0
      },
      "text/plain": [
       "  0%|          | 0/1 [00:00<?, ?it/s]"
      ]
     },
     "metadata": {},
     "output_type": "display_data"
    },
    {
     "data": {
      "application/vnd.jupyter.widget-view+json": {
       "model_id": "03a0ad2f43b94885bb8168b774e2c3d1",
       "version_major": 2,
       "version_minor": 0
      },
      "text/plain": [
       "  0%|          | 0/1 [00:00<?, ?it/s]"
      ]
     },
     "metadata": {},
     "output_type": "display_data"
    },
    {
     "name": "stdout",
     "output_type": "stream",
     "text": [
      "Epoch : 24 Train Loss : 0.255917 Train Acc : 0.936170\n",
      "Epoch : 24 Valid Loss : 0.380968 Valid Acc : 0.808511\n"
     ]
    },
    {
     "data": {
      "application/vnd.jupyter.widget-view+json": {
       "model_id": "13f930044c4f4a6eadf9e17f5b3789de",
       "version_major": 2,
       "version_minor": 0
      },
      "text/plain": [
       "  0%|          | 0/1 [00:00<?, ?it/s]"
      ]
     },
     "metadata": {},
     "output_type": "display_data"
    },
    {
     "data": {
      "application/vnd.jupyter.widget-view+json": {
       "model_id": "844affc15fba409c85da2f7ae4f79bd2",
       "version_major": 2,
       "version_minor": 0
      },
      "text/plain": [
       "  0%|          | 0/1 [00:00<?, ?it/s]"
      ]
     },
     "metadata": {},
     "output_type": "display_data"
    },
    {
     "name": "stdout",
     "output_type": "stream",
     "text": [
      "Valid_loss decreased 0.3486541211605072 --> 0.33621296286582947\n",
      "Epoch : 25 Train Loss : 0.245592 Train Acc : 0.914894\n",
      "Epoch : 25 Valid Loss : 0.336213 Valid Acc : 0.872340\n"
     ]
    }
   ],
   "source": [
    "criterion = nn.CrossEntropyLoss()\n",
    "optimizer = torch.optim.Adam(model.parameters(),lr = CNFG.lr)\n",
    "\n",
    "trainer = ModelTrainer(criterion,optimizer)\n",
    "trainer.fit(model,trainloader,validationloader,epochs = 25)"
   ]
  },
  {
   "cell_type": "code",
   "execution_count": 43,
   "metadata": {},
   "outputs": [],
   "source": [
    "torch.save(model.state_dict(),'car_alex_25.pt')"
   ]
  },
  {
   "cell_type": "code",
   "execution_count": 44,
   "metadata": {},
   "outputs": [
    {
     "data": {
      "application/vnd.jupyter.widget-view+json": {
       "model_id": "353c0ba936fd4d7299d62a0e1dd9d108",
       "version_major": 2,
       "version_minor": 0
      },
      "text/plain": [
       "  0%|          | 0/1 [00:00<?, ?it/s]"
      ]
     },
     "metadata": {},
     "output_type": "display_data"
    },
    {
     "name": "stdout",
     "output_type": "stream",
     "text": [
      "Test Loss : 0.345871 Test Acc : 0.823529\n"
     ]
    }
   ],
   "source": [
    "# test predictions\n",
    "# load torch model \n",
    "# model.load_state_dict(torch.load('ocean_19_15.pt'))\n",
    "model.load_state_dict(torch.load('car_alex_25.pt'))\n",
    "model.eval()\n",
    "test_loss = 0.0\n",
    "test_acc = 0.0\n",
    "for images,labels in tqdm(testloader):\n",
    "        \n",
    "        # move the data to CPU\n",
    "        images = images.to(device) \n",
    "        labels = labels.to(device)\n",
    "        \n",
    "        outputs = model(images)\n",
    "        loss = criterion(outputs,labels)\n",
    "        \n",
    "        test_loss += loss.item()\n",
    "        test_acc += accuracy(outputs,labels)\n",
    "\n",
    "print(\"Test Loss : {:.6f} Test Acc : {:.6f}\".format(test_loss / len(testloader), test_acc / len(testloader)))"
   ]
  },
  {
   "cell_type": "markdown",
   "metadata": {},
   "source": [
    "## Make predictions"
   ]
  },
  {
   "cell_type": "code",
   "execution_count": 47,
   "metadata": {},
   "outputs": [],
   "source": [
    "from PIL import Image \n",
    "import matplotlib.pyplot as plt\n",
    "import numpy as np\n",
    "import cv2\n",
    "import torch.nn.functional as F \n",
    "import torch\n",
    "from torchvision.datasets import ImageFolder\n",
    "from torch.utils.data import DataLoader \n",
    "from torchvision import transforms as T,datasets  \n",
    "from torchvision.models import alexnet\n",
    "from torch import nn\n",
    "\n",
    "\n",
    "data_transform = T.Compose([\n",
    "                             T.Resize(size=(224,224)), # Resizing the image to be 224 by 224\n",
    "                            #  T.RandomRotation(degrees=(-20,+20)), #Randomly Rotate Images by +/- 20 degrees, Image argumentation for each epoch\n",
    "                             T.ToTensor(), #converting the dimension from (height,weight,channel) to (channel,height,weight) convention of PyTorch\n",
    "                             T.Normalize([0.485,0.456,0.406],[0.229,0.224,0.225]) # Normalize by 3 means 3 StD's of the image net, 3 channels\n",
    "\n",
    "]) \n",
    "\n",
    "class_map = [ \n",
    "    'defect',\n",
    "    'no_defect'\n",
    "]\n",
    "\n",
    "def imshow(img):\n",
    "    npimg = img.numpy()\n",
    "    plt.imshow(np.transpose(npimg, (1, 2, 0)))\n",
    "    plt.show()\n",
    "\n",
    "# def predict_image(image_path,model):\n",
    "#     image = Image.open(image_path)\n",
    "#     image = data_transform(image)\n",
    "#     image = image.unsqueeze(0)\n",
    "#     image = image.to(device)\n",
    "#     model.eval()\n",
    "#     output = model(image)\n",
    "#     output = F.softmax(output,dim = 1)\n",
    "#     top_p,top_class = output.topk(1,dim = 1)\n",
    "#     return top_class\n",
    "\n",
    "# def predict_image_class(image_path,model):\n",
    "#     image = Image.open(image_path)\n",
    "#     image = data_transform(image)\n",
    "#     image = image.unsqueeze(0)\n",
    "#     image = image.to(device)\n",
    "#     model.eval()\n",
    "#     output = model(image)\n",
    "#     output = F.softmax(output,dim = 1)\n",
    "#     top_p,top_class = output.topk(1,dim = 1)\n",
    "#     return top_class.item()\n",
    "\n",
    "def predict_image_class_name(image_path,model): \n",
    "    \n",
    "    # show image \n",
    "    imshow(data_transform(Image.open(image_path)))\n",
    "\n",
    "    image = Image.open(image_path)\n",
    "    image = data_transform(image)\n",
    "    image = image.unsqueeze(0)\n",
    "    image = image.to(device) \n",
    "    output = model(image)\n",
    "    output = F.softmax(output,dim = 1)\n",
    "    print(\"soft\" , output)\n",
    "    top_p,top_class = output.topk(1,dim = 1) \n",
    "    print( top_p , top_class)\n",
    "    # return \"Predicted :\", train_data.dataset.classes[top_class.item()]\n",
    "    return \"Predicted :\", class_map[top_class.item()]\n",
    "\n",
    "# device \n",
    "device = torch.device(\"cpu\" if torch.cuda.is_available() else \"cpu\") \n",
    "\n",
    "# make realtime predictions \n",
    "model = resnet50(pretrained=True) #load pretrained model \n",
    "model.fc = nn.Linear(in_features=2048,out_features = 2, bias=True) \n",
    "model.load_state_dict(torch.load('car_alex_25.pt')) # load the model\n",
    "model.to(device) \n",
    "\n",
    "def predict_img(image): \n",
    "\n",
    "    INPUT_DIM = 224 \n",
    "    preprocess = T.Compose([\n",
    "            T.Resize(INPUT_DIM ),\n",
    "            # T.CenterCrop(224),\n",
    "            T.ToTensor(),\n",
    "            T.Normalize(\n",
    "            mean=[0.485, 0.456, 0.406],\n",
    "            std=[0.229, 0.224, 0.225]\n",
    "        )])\n",
    "\n",
    "    imshow(preprocess(Image.open(image)))\n",
    "\n",
    "    im = Image.open(image)\n",
    "    im_preprocessed = preprocess(im) \n",
    "    batch_img_tensor = torch.unsqueeze(im_preprocessed, 0)\n",
    "    output = model(batch_img_tensor) \n",
    "    confidence = F.softmax(output, dim=1)[0] * 100 \n",
    "    _, indices = torch.sort(output, descending=True) \n",
    "    return [(class_map[idx], confidence[idx].item()) for idx in indices[0][:1]]\n"
   ]
  },
  {
   "cell_type": "code",
   "execution_count": 48,
   "metadata": {},
   "outputs": [
    {
     "name": "stderr",
     "output_type": "stream",
     "text": [
      "/home/rohithnd/.local/lib/python3.10/site-packages/numpy/core/getlimits.py:499: UserWarning: The value of the smallest subnormal for <class 'numpy.float64'> type is zero.\n",
      "  setattr(self, word, getattr(machar, word).flat[0])\n",
      "/home/rohithnd/.local/lib/python3.10/site-packages/numpy/core/getlimits.py:89: UserWarning: The value of the smallest subnormal for <class 'numpy.float64'> type is zero.\n",
      "  return self._float_to_str(self.smallest_subnormal)\n",
      "Clipping input data to the valid range for imshow with RGB data ([0..1] for floats or [0..255] for integers).\n"
     ]
    },
    {
     "data": {
      "image/png": "[encoded data removed]",
      "text/plain": [
       "<Figure size 432x288 with 1 Axes>"
      ]
     },
     "metadata": {
      "needs_background": "light"
     },
     "output_type": "display_data"
    },
    {
     "data": {
      "text/plain": [
       "[('defect', 53.84815979003906)]"
      ]
     },
     "execution_count": 48,
     "metadata": {},
     "output_type": "execute_result"
    }
   ],
   "source": [
    "predict_img(\"./OIP.jpeg\")"
   ]
  },
  {
   "cell_type": "code",
   "execution_count": 50,
   "metadata": {},
   "outputs": [
    {
     "name": "stderr",
     "output_type": "stream",
     "text": [
      "Clipping input data to the valid range for imshow with RGB data ([0..1] for floats or [0..255] for integers).\n"
     ]
    },
    {
     "data": {
      "image/png": "[encoded data removed]",
      "text/plain": [
       "<Figure size 432x288 with 1 Axes>"
      ]
     },
     "metadata": {
      "needs_background": "light"
     },
     "output_type": "display_data"
    },
    {
     "name": "stdout",
     "output_type": "stream",
     "text": [
      "soft tensor([[0.5571, 0.4429]], grad_fn=<SoftmaxBackward0>)\n",
      "tensor([[0.5571]], grad_fn=<TopkBackward0>) tensor([[0]])\n"
     ]
    },
    {
     "data": {
      "text/plain": [
       "('Predicted :', 'defect')"
      ]
     },
     "execution_count": 50,
     "metadata": {},
     "output_type": "execute_result"
    }
   ],
   "source": [
    "predict_image_class_name('./OIP.jpeg',model) "
   ]
  },
  {
   "cell_type": "code",
   "execution_count": null,
   "metadata": {},
   "outputs": [],
   "source": []
  }
 ],
 "metadata": {
  "kernelspec": {
   "display_name": "Python 3.10.6 64-bit",
   "language": "python",
   "name": "python3"
  },
  "language_info": {
   "codemirror_mode": {
    "name": "ipython",
    "version": 3
   },
   "file_extension": ".py",
   "mimetype": "text/x-python",
   "name": "python",
   "nbconvert_exporter": "python",
   "pygments_lexer": "ipython3",
   "version": "3.10.6"
  },
  "orig_nbformat": 4,
  "vscode": {
   "interpreter": {
    "hash": "916dbcbb3f70747c44a77c7bcd40155683ae19c65e1c03b4aa3499c5328201f1"
   }
  }
 },
 "nbformat": 4,
 "nbformat_minor": 2
}
